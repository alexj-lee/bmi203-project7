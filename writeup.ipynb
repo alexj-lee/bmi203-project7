{
 "cells": [
  {
   "cell_type": "code",
   "execution_count": 1,
   "id": "a55dc5ae",
   "metadata": {},
   "outputs": [],
   "source": [
    "%load_ext autoreload\n",
    "%autoreload 2"
   ]
  },
  {
   "cell_type": "code",
   "execution_count": 38,
   "id": "9b27adc8",
   "metadata": {},
   "outputs": [],
   "source": [
    "from numpy.typing import ArrayLike\n",
    "from typing import List, Union\n",
    "\n",
    "import itertools\n",
    "\n",
    "import numpy as np\n",
    "from sklearn import datasets\n",
    "from nn import nn, preprocess, io\n",
    "import matplotlib.pyplot as plt"
   ]
  },
  {
   "cell_type": "markdown",
   "id": "9d062acf",
   "metadata": {},
   "source": [
    "# Step 2: generate your autoencoder"
   ]
  },
  {
   "cell_type": "markdown",
   "id": "05e648fd",
   "metadata": {},
   "source": [
    "#### Read in toy digits dataset"
   ]
  },
  {
   "cell_type": "code",
   "execution_count": 3,
   "id": "867d707f",
   "metadata": {},
   "outputs": [],
   "source": [
    "digits = datasets.load_digits()\n",
    "x = digits['data']"
   ]
  },
  {
   "cell_type": "markdown",
   "id": "2c064080",
   "metadata": {},
   "source": [
    "#### Generate a train/test split"
   ]
  },
  {
   "cell_type": "code",
   "execution_count": 4,
   "id": "945a92b9",
   "metadata": {},
   "outputs": [],
   "source": [
    "def train_test_split(\n",
    "    x: Union[List[Union[float, int]], ArrayLike],\n",
    "    y: [Union[List[Union[float, int]], ArrayLike]],\n",
    "    test_ratio: float = 0.3,\n",
    "):\n",
    "    xypairs = list(zip(x, y))\n",
    "\n",
    "    test_sz = int(len(x) * test_ratio)\n",
    "    all_indices = np.arange(len(x))\n",
    "\n",
    "    test_indices = np.random.choice(all_indices, size=test_sz, replace=False)\n",
    "    train_indices = [ind for ind in all_indices if ind not in test_indices]\n",
    "\n",
    "    x_test, y_test, x_train, y_train = [], [], [], []\n",
    "\n",
    "    for ind in test_indices:\n",
    "        x_test.append(xypairs[ind][0])\n",
    "        y_test.append(xypairs[ind][1])\n",
    "    for ind in train_indices:\n",
    "        x_train.append(xypairs[ind][0])\n",
    "        y_train.append(xypairs[ind][1])\n",
    "\n",
    "    return x_train, y_train, x_test, y_test"
   ]
  },
  {
   "cell_type": "code",
   "execution_count": 21,
   "id": "43722bc7",
   "metadata": {},
   "outputs": [],
   "source": [
    "x_train, y_train, x_test, y_test = train_test_split(x, x)\n",
    "data = train_test_split(x, x)\n",
    "\n",
    "arch = [{'input_dim': 64, 'output_dim': 16}, {'input_dim': 16, 'output_dim': 64}]\n",
    "seed = 0"
   ]
  },
  {
   "cell_type": "markdown",
   "id": "c3fcdd10",
   "metadata": {},
   "source": [
    "## Hyperparameter tuning\n",
    "* I chose to implement a grid search over some possible hyperparameter settings for this task\n",
    "* I trained a model for each hyperparameter combination and then chose the one with the best validation loss\n",
    "\n",
    "* We want to use mean squared error loss because for the autoencoder task we want to learn a representation that can be used to reconstruct the original data pixel intensities "
   ]
  },
  {
   "cell_type": "code",
   "execution_count": 14,
   "id": "9c53f873",
   "metadata": {},
   "outputs": [],
   "source": [
    "lr_grid = [1e-1, 1e-2, 1e-3, 1e-4]\n",
    "bs_grid = [50, 100, 200, 300, 400, 800]\n",
    "epochs_grid = [5, 10, 20, 30, 40, 50, 100]"
   ]
  },
  {
   "cell_type": "code",
   "execution_count": 34,
   "id": "e2189f67",
   "metadata": {},
   "outputs": [],
   "source": [
    "test_losses_grid = {}\n",
    "models_grid = {}\n",
    "\n",
    "for grid_combination in itertools.product(lr_grid, bs_grid, epochs_grid):\n",
    "    lr, bs, epoch = grid_combination\n",
    "    network = nn.NeuralNetwork(arch, lr, seed, bs, epochs, 'mse', activations=['sigmoid', None])\n",
    "    train_losses, test_losses = network.fit(x_train, y_train, x_test, y_test)\n",
    "    last_test_loss = test_losses[-1]\n",
    "    \n",
    "    # code does this but wanted to make it clear to reader losses are stored as attr\n",
    "    network.train_losses = train_losses\n",
    "    network.test_losses = test_losses\n",
    "    \n",
    "    grid_key = (lr, bs, epoch)\n",
    "    test_losses_grid[grid_key] = last_test_loss\n",
    "    models_grid[grid_key] = network"
   ]
  },
  {
   "cell_type": "code",
   "execution_count": 35,
   "id": "7f2177ca",
   "metadata": {},
   "outputs": [],
   "source": [
    "best_grid_param = min(test_losses_grid, key=test_losses_grid.get)\n",
    "best_loss_val = test_losses_grid[best_grid_param]\n",
    "best_network = models_grid[best_grid_param]"
   ]
  },
  {
   "cell_type": "markdown",
   "id": "1236f023",
   "metadata": {},
   "source": [
    "#### Plot training and testing loss per epoch"
   ]
  },
  {
   "cell_type": "code",
   "execution_count": 49,
   "id": "9f29e781",
   "metadata": {},
   "outputs": [
    {
     "data": {
      "image/png": "[encoded data removed]",
      "text/plain": [
       "<Figure size 432x288 with 1 Axes>"
      ]
     },
     "metadata": {
      "needs_background": "light"
     },
     "output_type": "display_data"
    }
   ],
   "source": [
    "plt.plot(best_network.train_losses, label='Train losses')\n",
    "plt.plot(best_network.test_losses, label='Test losses')\n",
    "_ = plt.title('Train/test losses for best performing network')\n",
    "_ = plt.grid()\n",
    "_ = plt.legend()\n",
    "_ = plt.xlabel('Epochs')\n",
    "_ = plt.ylabel('Average MSE loss over epoch')"
   ]
  },
  {
   "cell_type": "markdown",
   "id": "cf3a477f",
   "metadata": {},
   "source": [
    "#### Quantify your average reconstruction error over the dataset"
   ]
  },
  {
   "cell_type": "code",
   "execution_count": 48,
   "id": "575fc2e2",
   "metadata": {},
   "outputs": [
    {
     "name": "stdout",
     "output_type": "stream",
     "text": [
      "Average loss across dataset: 12.249\n"
     ]
    }
   ],
   "source": [
    "loss_across_dataset = best_network._eval_loader(x, x, train=False)\n",
    "loss_across_dataset = np.round(loss_across_dataset, 3)\n",
    "print(f'Average loss across dataset: {loss_across_dataset}')"
   ]
  },
  {
   "cell_type": "markdown",
   "id": "2d07a9a4",
   "metadata": {},
   "source": [
    "# Step 3: generate your transcription factor classifier"
   ]
  },
  {
   "cell_type": "markdown",
   "id": "f20e0d0a",
   "metadata": {},
   "source": [
    "#### Read in data"
   ]
  },
  {
   "cell_type": "code",
   "execution_count": 52,
   "id": "78481890",
   "metadata": {},
   "outputs": [],
   "source": [
    "positive_examples = io.read_text_file('data/rap1-lieb-positives.txt')\n",
    "negative_examples = io.read_fasta_file('data/yeast-upstream-1k-negative.fa')"
   ]
  },
  {
   "cell_type": "markdown",
   "id": "e2c15a3e",
   "metadata": {},
   "source": [
    "#### Resample to have equal class balance"
   ]
  },
  {
   "cell_type": "code",
   "execution_count": 59,
   "id": "20fc18a4",
   "metadata": {},
   "outputs": [],
   "source": [
    "all_examples = [positive_examples + negative_examples, [0] * len(positive_examples) + [1] * len(negative_examples)]\n",
    "resampled_seqs, resampled_labels = preprocess.sample_seqs(*all_examples)\n",
    "resampled_seqs_ohe = preprocess.one_hot_encode_seqs(resampled_seqs)"
   ]
  },
  {
   "cell_type": "markdown",
   "id": "89406133",
   "metadata": {},
   "source": [
    "#### Generate train/test split"
   ]
  },
  {
   "cell_type": "code",
   "execution_count": 63,
   "id": "f213a390",
   "metadata": {},
   "outputs": [
    {
     "data": {
      "text/plain": [
       "1000"
      ]
     },
     "execution_count": 63,
     "metadata": {},
     "output_type": "execute_result"
    }
   ],
   "source": [
    "len(negative_examples[0])"
   ]
  },
  {
   "cell_type": "code",
   "execution_count": 64,
   "id": "689db026",
   "metadata": {},
   "outputs": [],
   "source": [
    "# not sure if supposed to be using this data; negative examples are much larger sequences than the positive\n",
    "# are we supposed to use the rap1-lieb-test?"
   ]
  },
  {
   "cell_type": "code",
   "execution_count": null,
   "id": "92f378a5",
   "metadata": {},
   "outputs": [],
   "source": [
    "x_train, y_train, xe_test, y_test = train_test_split(resampled_seqs_ohe, resampled_labels)\n",
    "arch = [{'input_dim': 4000, 'output_dim': 16}, {'input_dim': 16, 'output_dim': 64}]\n",
    "seed = 0"
   ]
  }
 ],
 "metadata": {
  "kernelspec": {
   "display_name": "Python [conda env:ml]",
   "language": "python",
   "name": "conda-env-ml-py"
  },
  "language_info": {
   "codemirror_mode": {
    "name": "ipython",
    "version": 3
   },
   "file_extension": ".py",
   "mimetype": "text/x-python",
   "name": "python",
   "nbconvert_exporter": "python",
   "pygments_lexer": "ipython3",
   "version": "3.9.7"
  }
 },
 "nbformat": 4,
 "nbformat_minor": 5
}
