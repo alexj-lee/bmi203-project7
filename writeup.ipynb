{
 "cells": [
  {
   "cell_type": "raw",
   "id": "6bc83ca5",
   "metadata": {},
   "source": [
    "---\n",
    "title: \"BMI203 Project 7 writeup\"\n",
    "author: \"Alex Lee\"\n",
    "format:\n",
    "    html:\n",
    "        code-fold: true\n",
    "---"
   ]
  },
  {
   "cell_type": "markdown",
   "id": "d6862e79",
   "metadata": {},
   "source": [
    "# Project writeup for project 7"
   ]
  },
  {
   "cell_type": "markdown",
   "id": "ba6e6681",
   "metadata": {},
   "source": [
    "#### Loading packages"
   ]
  },
  {
   "cell_type": "code",
   "execution_count": 1,
   "id": "83950880",
   "metadata": {},
   "outputs": [],
   "source": [
    "%load_ext autoreload\n",
    "%autoreload 2"
   ]
  },
  {
   "cell_type": "code",
   "execution_count": 2,
   "id": "be794e3c",
   "metadata": {},
   "outputs": [],
   "source": [
    "from numpy.typing import ArrayLike\n",
    "from typing import List, Union\n",
    "\n",
    "import itertools\n",
    "\n",
    "import numpy as np\n",
    "from sklearn import datasets\n",
    "from nn import nn, preprocess, io\n",
    "import matplotlib.pyplot as plt"
   ]
  },
  {
   "cell_type": "markdown",
   "id": "0596ab7d",
   "metadata": {},
   "source": [
    "# Step 2: generate your autoencoder"
   ]
  },
  {
   "cell_type": "markdown",
   "id": "4ec21b2c",
   "metadata": {},
   "source": [
    "#### Read in toy digits dataset"
   ]
  },
  {
   "cell_type": "code",
   "execution_count": 3,
   "id": "5f18b473",
   "metadata": {},
   "outputs": [],
   "source": [
    "digits = datasets.load_digits()\n",
    "x = digits['data']"
   ]
  },
  {
   "cell_type": "markdown",
   "id": "061a1a14",
   "metadata": {},
   "source": [
    "#### Generate a train/test split"
   ]
  },
  {
   "cell_type": "code",
   "execution_count": 4,
   "id": "7c475b03",
   "metadata": {},
   "outputs": [],
   "source": [
    "def train_test_split(\n",
    "    x: Union[List[Union[float, int]], ArrayLike],\n",
    "    y: [Union[List[Union[float, int]], ArrayLike]],\n",
    "    test_ratio: float = 0.3,\n",
    "):\n",
    "    \"\"\"\n",
    "    Generates a training and testing split with test ratio `test_ratio' for the provided x and y labels\n",
    "    \n",
    "    \"\"\"\n",
    "    \n",
    "    assert len(x) == len(y), 'x and y lists are not equal length'\n",
    "    \n",
    "    xypairs = list(zip(x, y)) # stick x and y into a list lists\n",
    "\n",
    "    test_sz = int(len(x) * test_ratio)\n",
    "    all_indices = np.arange(len(x))\n",
    "\n",
    "    test_indices = np.random.choice(all_indices, size=test_sz, replace=False) # randomly sample indices\n",
    "    train_indices = [ind for ind in all_indices if ind not in test_indices]\n",
    "\n",
    "    x_test, y_test, x_train, y_train = [], [], [], []\n",
    "\n",
    "    # add random indices for train/test to appropriate lists\n",
    "    for ind in test_indices:\n",
    "        x_test.append(xypairs[ind][0])\n",
    "        y_test.append(xypairs[ind][1])\n",
    "    for ind in train_indices:\n",
    "        x_train.append(xypairs[ind][0])\n",
    "        y_train.append(xypairs[ind][1])\n",
    "\n",
    "    return x_train, y_train, x_test, y_test"
   ]
  },
  {
   "cell_type": "code",
   "execution_count": 5,
   "id": "c6fff769",
   "metadata": {},
   "outputs": [],
   "source": [
    "x_train, y_train, x_test, y_test = train_test_split(x, x)\n",
    "data = train_test_split(x, x)\n",
    "\n",
    "arch = [{'input_dim': 64, 'output_dim': 16}, {'input_dim': 16, 'output_dim': 64}]\n",
    "seed = 0"
   ]
  },
  {
   "cell_type": "markdown",
   "id": "cd3c9c41",
   "metadata": {},
   "source": [
    "## Hyperparameter tuning\n",
    "* I chose to implement a grid search over some possible hyperparameter settings for this task\n",
    "* I trained a model for each hyperparameter combination and then chose the one with the best validation loss\n",
    "\n",
    "* We want to use mean squared error loss because for the autoencoder task we want to learn a representation that can be used to reconstruct the original data pixel intensities "
   ]
  },
  {
   "cell_type": "code",
   "execution_count": 6,
   "id": "0b0efe05",
   "metadata": {},
   "outputs": [],
   "source": [
    "lr_grid = [1e-1, 1e-2, 1e-3, 1e-4]\n",
    "bs_grid = [50, 100, 200, 400, 800]\n",
    "epochs_grid = [5, 10, 20, 30, 40, 50, 100]"
   ]
  },
  {
   "cell_type": "code",
   "execution_count": 7,
   "id": "d1f0bbd5",
   "metadata": {},
   "outputs": [],
   "source": [
    "test_losses_grid = {}\n",
    "models_grid = {}\n",
    "\n",
    "for grid_combination in itertools.product(lr_grid, bs_grid, epochs_grid): # loop over all combinations\n",
    "    lr, bs, epochs = grid_combination\n",
    "    network = nn.NeuralNetwork(arch, lr, seed, bs, epochs, 'mse', activations=['sigmoid', None]) \n",
    "    # intuitively i dont think we want to 0-1 bound the predictions, although probably doesn't matter all that much\n",
    "    train_losses, test_losses = network.fit(x_train, y_train, x_test, y_test)\n",
    "    last_test_loss = test_losses[-1] # for recording in dict\n",
    "    \n",
    "    # code does this but wanted to make it clear to reader losses are stored as attr\n",
    "    network.train_losses = train_losses\n",
    "    network.test_losses = test_losses\n",
    "    \n",
    "    grid_key = (lr, bs, epochs)\n",
    "    test_losses_grid[grid_key] = last_test_loss\n",
    "    models_grid[grid_key] = network"
   ]
  },
  {
   "cell_type": "code",
   "execution_count": 8,
   "id": "cccc19f1",
   "metadata": {},
   "outputs": [],
   "source": [
    "best_grid_param = min(test_losses_grid, key=test_losses_grid.get) # get hparam key with best loss\n",
    "best_loss_val = test_losses_grid[best_grid_param] # get best loss\n",
    "best_network = models_grid[best_grid_param] # get best model"
   ]
  },
  {
   "cell_type": "markdown",
   "id": "061be3f0",
   "metadata": {},
   "source": [
    "#### Plot training and testing loss per epoch"
   ]
  },
  {
   "cell_type": "code",
   "execution_count": 9,
   "id": "6cf3c69b",
   "metadata": {},
   "outputs": [
    {
     "data": {
      "image/png": "[encoded data removed]",
      "text/plain": [
       "<Figure size 432x288 with 1 Axes>"
      ]
     },
     "metadata": {
      "needs_background": "light"
     },
     "output_type": "display_data"
    }
   ],
   "source": [
    "plt.plot(best_network.train_losses, label='Train losses')\n",
    "plt.plot(best_network.test_losses, label='Test losses')\n",
    "_ = plt.title('Train/test losses for best performing network')\n",
    "_ = plt.grid()\n",
    "_ = plt.legend()\n",
    "_ = plt.xlabel('Epochs')\n",
    "_ = plt.ylabel('Average MSE loss over epoch')"
   ]
  },
  {
   "cell_type": "markdown",
   "id": "ee149e01",
   "metadata": {},
   "source": [
    "#### Quantify your average reconstruction error over the dataset"
   ]
  },
  {
   "cell_type": "code",
   "execution_count": 10,
   "id": "14701392",
   "metadata": {},
   "outputs": [
    {
     "name": "stdout",
     "output_type": "stream",
     "text": [
      "Average loss across dataset: 7.945\n"
     ]
    }
   ],
   "source": [
    "loss_across_dataset = best_network._eval_loader(x, x, train=False)\n",
    "loss_across_dataset = np.round(loss_across_dataset, 3)\n",
    "print(f'Average loss across dataset: {loss_across_dataset}')"
   ]
  },
  {
   "cell_type": "markdown",
   "id": "0eff10bf",
   "metadata": {},
   "source": [
    "# Step 3: generate your transcription factor classifier"
   ]
  },
  {
   "cell_type": "markdown",
   "id": "f3833635",
   "metadata": {},
   "source": [
    "#### Read in data"
   ]
  },
  {
   "cell_type": "code",
   "execution_count": 11,
   "id": "5b69fb96",
   "metadata": {},
   "outputs": [],
   "source": [
    "positive_examples = io.read_text_file('data/rap1-lieb-positives.txt')\n",
    "negative_examples = io.read_fasta_file('data/yeast-upstream-1k-negative.fa')\n",
    "\n",
    "len_positives = len(positive_examples[0])\n",
    "\n",
    "# generate three subsequences of length same as positive examples from each negative sequence to make sure all data X's are same len\n",
    "n_subseq_per_negative = 3\n",
    "negative_examples_subseq = []\n",
    "for example in negative_examples:\n",
    "    possible_indices = np.arange(len(example) + len_positives - 1) # get all indices that can produce a sequence of appropriate length\n",
    "    random_start_indices = np.random.choice(possible_indices, size=n_subseq_per_negative, replace=False) # chose n_subseq_per_negative from ^\n",
    "    \n",
    "    for random_start in random_start_indices:\n",
    "        negative_examples_subseq.append(example[random_start: random_start+len_positives]) # add to negative_examples_subseq"
   ]
  },
  {
   "cell_type": "markdown",
   "id": "015683b9",
   "metadata": {},
   "source": [
    "#### Resample to have equal class balance"
   ]
  },
  {
   "cell_type": "code",
   "execution_count": 12,
   "id": "5feafc69",
   "metadata": {},
   "outputs": [],
   "source": [
    "# stick pos and negative examples together (3 subsequences per regular negative example)\n",
    "all_examples = [positive_examples + negative_examples_subseq, [0] * len(positive_examples) + [1] * len(negative_examples_subseq)] \n",
    "resampled_seqs, resampled_labels = preprocess.sample_seqs(*all_examples) # resample to equal class balance\n",
    "resampled_seqs_ohe = preprocess.one_hot_encode_seqs(resampled_seqs) # OHE the sequenecs\n",
    "\n",
    "assert len(set(len(seq) for seq in resampled_seqs_ohe)) == 1 # all same length OHE's"
   ]
  },
  {
   "cell_type": "markdown",
   "id": "e57a0630",
   "metadata": {},
   "source": [
    "#### Convert labels to OHE"
   ]
  },
  {
   "cell_type": "code",
   "execution_count": 13,
   "id": "d61cdcc9",
   "metadata": {},
   "outputs": [],
   "source": [
    "resampled_labels_ohe = np.zeros((len(resampled_labels), 2))\n",
    "\n",
    "# convert one dim class indicator vector (n x 1) to two dim OHE (n x 2)\n",
    "\n",
    "for idx, label in enumerate(resampled_labels):\n",
    "    if label == 0:\n",
    "        resampled_labels_ohe[idx, label] = 1\n",
    "    else:\n",
    "        resampled_labels_ohe[idx, label] = 1\n",
    "        \n",
    "assert len(resampled_labels) == resampled_labels_ohe.sum(1).sum() # make sure the rows (data points) only have one label"
   ]
  },
  {
   "cell_type": "markdown",
   "id": "cd6ae6df",
   "metadata": {},
   "source": [
    "#### Generate train/test split"
   ]
  },
  {
   "cell_type": "code",
   "execution_count": 14,
   "id": "05eaf1c4",
   "metadata": {},
   "outputs": [],
   "source": [
    "x_train, y_train, x_test, y_test = train_test_split(resampled_seqs_ohe, resampled_labels_ohe)\n",
    "arch = [{'input_dim': 68, 'output_dim': 34}, {'input_dim': 34, 'output_dim': 2}] # no particular reason why hidden layer has to be 34\n",
    "seed = 0"
   ]
  },
  {
   "cell_type": "markdown",
   "id": "d20b9b4f",
   "metadata": {},
   "source": [
    "#### Train network using hyperparameter grid search"
   ]
  },
  {
   "cell_type": "code",
   "execution_count": 15,
   "id": "fde3b8db",
   "metadata": {},
   "outputs": [],
   "source": [
    "lr_grid = [1e-1, 1e-2]\n",
    "bs_grid = [100, 400, 1600]\n",
    "epochs_grid = [5, 10, 40, 80]"
   ]
  },
  {
   "cell_type": "code",
   "execution_count": 16,
   "id": "419d8ee3",
   "metadata": {},
   "outputs": [],
   "source": [
    "# see corresponding cell above for the autoencoder task for further explanation \n",
    "\n",
    "clf_test_losses_grid = {}\n",
    "clf_models_grid = {}\n",
    "\n",
    "for grid_combination in itertools.product(lr_grid, bs_grid, epochs_grid):\n",
    "    lr, bs, epoch = grid_combination\n",
    "    network = nn.NeuralNetwork(arch, lr, seed, bs, epochs, 'ce', activations=['sigmoid', 'sigmoid'])\n",
    "    train_losses, test_losses = network.fit(x_train, y_train, x_test, y_test)\n",
    "    last_test_loss = test_losses[-1]\n",
    "    \n",
    "    # code does this but wanted to make it clear to reader losses are stored as attr\n",
    "    network.train_losses = train_losses\n",
    "    network.test_losses = test_losses\n",
    "    \n",
    "    grid_key = (lr, bs, epoch)\n",
    "    clf_test_losses_grid[grid_key] = last_test_loss\n",
    "    clf_models_grid[grid_key] = network"
   ]
  },
  {
   "cell_type": "code",
   "execution_count": 17,
   "id": "eef8b2b8",
   "metadata": {},
   "outputs": [],
   "source": [
    "best_grid_param_clf = min(clf_test_losses_grid, key=clf_test_losses_grid.get) # get hparams key with lowest loss\n",
    "best_loss_val_clf = clf_test_losses_grid[best_grid_param_clf] # get best loss\n",
    "best_network_clf = clf_models_grid[best_grid_param_clf] # get best models"
   ]
  },
  {
   "cell_type": "markdown",
   "id": "fb2a9a7c",
   "metadata": {},
   "source": [
    "#### Choice of loss function:\n",
    "* I chose to use **cross entropy loss** because we want this neural network to output probabilities over the two classes during prediction"
   ]
  },
  {
   "cell_type": "code",
   "execution_count": 18,
   "id": "dc9f187d",
   "metadata": {},
   "outputs": [
    {
     "data": {
      "image/png": "[encoded data removed]",
      "text/plain": [
       "<Figure size 432x288 with 1 Axes>"
      ]
     },
     "metadata": {
      "needs_background": "light"
     },
     "output_type": "display_data"
    }
   ],
   "source": [
    "plt.plot(best_network_clf.train_losses, label='Train losses')\n",
    "plt.plot(best_network_clf.test_losses, label='Test losses')\n",
    "_ = plt.title('Train/test losses for best performing network on classification of TF binding')\n",
    "_ = plt.grid()\n",
    "_ = plt.legend()\n",
    "_ = plt.xlabel('Epochs')\n",
    "_ = plt.ylabel('Average CE loss over epoch')"
   ]
  },
  {
   "cell_type": "markdown",
   "id": "632d1ad3",
   "metadata": {},
   "source": [
    "#### Print out accuracy on test set"
   ]
  },
  {
   "cell_type": "code",
   "execution_count": 19,
   "id": "3bce6b2f",
   "metadata": {},
   "outputs": [
    {
     "name": "stdout",
     "output_type": "stream",
     "text": [
      "Accuracy for test set: 0.984\n"
     ]
    }
   ],
   "source": [
    "preds = network.predict(np.array(x_test)).argmax(1) # one dim vector of class pred 0's and 1's\n",
    "y_test_gt = np.array(y_test).argmax(1)\n",
    "\n",
    "accuracy = np.isclose(preds, y_test_gt).sum() / len(preds)\n",
    "print(f'Accuracy for test set: {accuracy.round(3)}')"
   ]
  }
 ],
 "metadata": {
  "kernelspec": {
   "display_name": "Python [conda env:ml]",
   "language": "python",
   "name": "conda-env-ml-py"
  },
  "language_info": {
   "codemirror_mode": {
    "name": "ipython",
    "version": 3
   },
   "file_extension": ".py",
   "mimetype": "text/x-python",
   "name": "python",
   "nbconvert_exporter": "python",
   "pygments_lexer": "ipython3",
   "version": "3.9.7"
  }
 },
 "nbformat": 4,
 "nbformat_minor": 5
}
