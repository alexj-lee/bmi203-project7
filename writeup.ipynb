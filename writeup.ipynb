{
 "cells": [
  {
   "cell_type": "raw",
   "id": "60d4bbca",
   "metadata": {},
   "source": [
    "---\n",
    "title: \"BMI203 Project 7 writeup\"\n",
    "author: \"Alex Lee\"\n",
    "format:\n",
    "    html:\n",
    "        code-fold: true\n",
    "---"
   ]
  },
  {
   "cell_type": "code",
   "execution_count": 1,
   "id": "9a7cc319",
   "metadata": {},
   "outputs": [],
   "source": [
    "%load_ext autoreload\n",
    "%autoreload 2"
   ]
  },
  {
   "cell_type": "code",
   "execution_count": 309,
   "id": "196a39eb",
   "metadata": {},
   "outputs": [],
   "source": [
    "from numpy.typing import ArrayLike\n",
    "from typing import List, Union\n",
    "\n",
    "import itertools\n",
    "\n",
    "import numpy as np\n",
    "from sklearn import datasets\n",
    "from nn import nn, preprocess, io\n",
    "import matplotlib.pyplot as plt"
   ]
  },
  {
   "cell_type": "markdown",
   "id": "9c1f740e",
   "metadata": {},
   "source": [
    "# Step 2: generate your autoencoder"
   ]
  },
  {
   "cell_type": "markdown",
   "id": "ab8d97ea",
   "metadata": {},
   "source": [
    "#### Read in toy digits dataset"
   ]
  },
  {
   "cell_type": "code",
   "execution_count": 310,
   "id": "4eae0b65",
   "metadata": {},
   "outputs": [],
   "source": [
    "digits = datasets.load_digits()\n",
    "x = digits['data']"
   ]
  },
  {
   "cell_type": "markdown",
   "id": "0391182e",
   "metadata": {},
   "source": [
    "#### Generate a train/test split"
   ]
  },
  {
   "cell_type": "code",
   "execution_count": 340,
   "id": "a7bdee9c",
   "metadata": {},
   "outputs": [],
   "source": [
    "def train_test_split(\n",
    "    x: Union[List[Union[float, int]], ArrayLike],\n",
    "    y: [Union[List[Union[float, int]], ArrayLike]],\n",
    "    test_ratio: float = 0.3,\n",
    "):\n",
    "    xypairs = list(zip(x, y))\n",
    "\n",
    "    test_sz = int(len(x) * test_ratio)\n",
    "    all_indices = np.arange(len(x))\n",
    "\n",
    "    test_indices = np.random.choice(all_indices, size=test_sz, replace=False)\n",
    "    train_indices = [ind for ind in all_indices if ind not in test_indices]\n",
    "\n",
    "    x_test, y_test, x_train, y_train = [], [], [], []\n",
    "\n",
    "    for ind in test_indices:\n",
    "        x_test.append(xypairs[ind][0])\n",
    "        y_test.append(xypairs[ind][1])\n",
    "    for ind in train_indices:\n",
    "        x_train.append(xypairs[ind][0])\n",
    "        y_train.append(xypairs[ind][1])\n",
    "\n",
    "    return x_train, y_train, x_test, y_test"
   ]
  },
  {
   "cell_type": "code",
   "execution_count": 341,
   "id": "f9dccfe4",
   "metadata": {},
   "outputs": [],
   "source": [
    "x_train, y_train, x_test, y_test = train_test_split(x, x)\n",
    "data = train_test_split(x, x)\n",
    "\n",
    "arch = [{'input_dim': 64, 'output_dim': 16}, {'input_dim': 16, 'output_dim': 64}]\n",
    "seed = 0"
   ]
  },
  {
   "cell_type": "markdown",
   "id": "4b1b6b77",
   "metadata": {},
   "source": [
    "## Hyperparameter tuning\n",
    "* I chose to implement a grid search over some possible hyperparameter settings for this task\n",
    "* I trained a model for each hyperparameter combination and then chose the one with the best validation loss\n",
    "\n",
    "* We want to use mean squared error loss because for the autoencoder task we want to learn a representation that can be used to reconstruct the original data pixel intensities "
   ]
  },
  {
   "cell_type": "code",
   "execution_count": 342,
   "id": "9781fbb1",
   "metadata": {},
   "outputs": [],
   "source": [
    "lr_grid = [1e-1, 1e-2, 1e-3, 1e-4]\n",
    "bs_grid = [50, 100, 200, 400, 800]\n",
    "epochs_grid = [5, 10, 20, 30, 40, 50, 100]"
   ]
  },
  {
   "cell_type": "code",
   "execution_count": 343,
   "id": "64a1e179",
   "metadata": {},
   "outputs": [],
   "source": [
    "test_losses_grid = {}\n",
    "models_grid = {}\n",
    "\n",
    "for grid_combination in itertools.product(lr_grid, bs_grid, epochs_grid):\n",
    "    lr, bs, epochs = grid_combination\n",
    "    network = nn.NeuralNetwork(arch, lr, seed, bs, epochs, 'mse', activations=['sigmoid', None])\n",
    "    train_losses, test_losses = network.fit(x_train, y_train, x_test, y_test)\n",
    "    last_test_loss = test_losses[-1]\n",
    "    \n",
    "    # code does this but wanted to make it clear to reader losses are stored as attr\n",
    "    network.train_losses = train_losses\n",
    "    network.test_losses = test_losses\n",
    "    \n",
    "    grid_key = (lr, bs, epoch)\n",
    "    test_losses_grid[grid_key] = last_test_loss\n",
    "    models_grid[grid_key] = network"
   ]
  },
  {
   "cell_type": "code",
   "execution_count": 345,
   "id": "54ea082e",
   "metadata": {},
   "outputs": [],
   "source": [
    "best_grid_param = min(test_losses_grid, key=test_losses_grid.get)\n",
    "best_loss_val = test_losses_grid[best_grid_param]\n",
    "best_network = models_grid[best_grid_param]"
   ]
  },
  {
   "cell_type": "markdown",
   "id": "a6347ba6",
   "metadata": {},
   "source": [
    "#### Plot training and testing loss per epoch"
   ]
  },
  {
   "cell_type": "code",
   "execution_count": 346,
   "id": "b4ca6506",
   "metadata": {},
   "outputs": [
    {
     "data": {
      "image/png": "[encoded data removed]",
      "text/plain": [
       "<Figure size 432x288 with 1 Axes>"
      ]
     },
     "metadata": {
      "needs_background": "light"
     },
     "output_type": "display_data"
    }
   ],
   "source": [
    "plt.plot(best_network.train_losses, label='Train losses')\n",
    "plt.plot(best_network.test_losses, label='Test losses')\n",
    "_ = plt.title('Train/test losses for best performing network')\n",
    "_ = plt.grid()\n",
    "_ = plt.legend()\n",
    "_ = plt.xlabel('Epochs')\n",
    "_ = plt.ylabel('Average MSE loss over epoch')"
   ]
  },
  {
   "cell_type": "markdown",
   "id": "2735a894",
   "metadata": {},
   "source": [
    "#### Quantify your average reconstruction error over the dataset"
   ]
  },
  {
   "cell_type": "code",
   "execution_count": 348,
   "id": "317a239f",
   "metadata": {},
   "outputs": [
    {
     "name": "stdout",
     "output_type": "stream",
     "text": [
      "Average loss across dataset: 8.573\n"
     ]
    }
   ],
   "source": [
    "loss_across_dataset = best_network._eval_loader(x, x, train=False)\n",
    "loss_across_dataset = np.round(loss_across_dataset, 3)\n",
    "print(f'Average loss across dataset: {loss_across_dataset}')"
   ]
  },
  {
   "cell_type": "markdown",
   "id": "85d0a117",
   "metadata": {},
   "source": [
    "# Step 3: generate your transcription factor classifier"
   ]
  },
  {
   "cell_type": "markdown",
   "id": "d4a0387e",
   "metadata": {},
   "source": [
    "#### Read in data"
   ]
  },
  {
   "cell_type": "code",
   "execution_count": 349,
   "id": "0b2421e1",
   "metadata": {},
   "outputs": [],
   "source": [
    "positive_examples = io.read_text_file('data/rap1-lieb-positives.txt')\n",
    "negative_examples = io.read_fasta_file('data/yeast-upstream-1k-negative.fa')\n",
    "\n",
    "len_positives = len(positive_examples[0])\n",
    "\n",
    "# generate three subsequences of length same as positive examples from each negative sequence to make sure all data X's are same len\n",
    "n_subseq_per_negative = 3\n",
    "negative_examples_subseq = []\n",
    "for example in negative_examples:\n",
    "    possible_indices = np.arange(len(example) + len_positives - 1) # get all indices that can produce a sequence of appropriate length\n",
    "    random_start_indices = np.random.choice(possible_indices, size=n_subseq_per_negative, replace=False) # chose n_subseq_per_negative from ^\n",
    "    \n",
    "    for random_start in random_start_indices:\n",
    "        negative_examples_subseq.append(example[random_start: random_start+len_positives]) # add to negative_examples_subseq"
   ]
  },
  {
   "cell_type": "markdown",
   "id": "10262f3d",
   "metadata": {},
   "source": [
    "#### Resample to have equal class balance"
   ]
  },
  {
   "cell_type": "code",
   "execution_count": 350,
   "id": "7d70c8bc",
   "metadata": {},
   "outputs": [],
   "source": [
    "all_examples = [positive_examples + negative_examples_subseq, [0] * len(positive_examples) + [1] * len(negative_examples_subseq)]\n",
    "resampled_seqs, resampled_labels = preprocess.sample_seqs(*all_examples)\n",
    "resampled_seqs_ohe = preprocess.one_hot_encode_seqs(resampled_seqs)\n",
    "\n",
    "assert len(set(len(seq) for seq in resampled_seqs_ohe)) == 1 # all same length (68)"
   ]
  },
  {
   "cell_type": "markdown",
   "id": "ac99f563",
   "metadata": {},
   "source": [
    "#### Convert labels to OHE"
   ]
  },
  {
   "cell_type": "code",
   "execution_count": 354,
   "id": "5c26918a",
   "metadata": {},
   "outputs": [],
   "source": [
    "resampled_labels_ohe = np.zeros((len(resampled_labels), 2))\n",
    "for idx, label in enumerate(resampled_labels):\n",
    "    if label == 0:\n",
    "        resampled_labels_ohe[idx, label] = 1\n",
    "    else:\n",
    "        resampled_labels_ohe[idx, label] = 1\n",
    "        \n",
    "assert len(resampled_labels) == resampled_labels_ohe.sum(1).sum()"
   ]
  },
  {
   "cell_type": "markdown",
   "id": "972d7ed4",
   "metadata": {},
   "source": [
    "#### Generate train/test split"
   ]
  },
  {
   "cell_type": "code",
   "execution_count": 355,
   "id": "3b5432b9",
   "metadata": {},
   "outputs": [],
   "source": [
    "x_train, y_train, x_test, y_test = train_test_split(resampled_seqs_ohe, resampled_labels_ohe)\n",
    "arch = [{'input_dim': 68, 'output_dim': 20}, {'input_dim': 20, 'output_dim': 2}]\n",
    "seed = 0"
   ]
  },
  {
   "cell_type": "code",
   "execution_count": 363,
   "id": "7cd76ebb",
   "metadata": {},
   "outputs": [],
   "source": [
    "lr_grid = [1e-1, 1e-2]\n",
    "bs_grid = [100, 400, 1600]\n",
    "epochs_grid = [5, 10, 40, 80]"
   ]
  },
  {
   "cell_type": "code",
   "execution_count": 364,
   "id": "f2cad42f",
   "metadata": {},
   "outputs": [],
   "source": [
    "clf_test_losses_grid = {}\n",
    "clf_models_grid = {}\n",
    "\n",
    "for grid_combination in itertools.product(lr_grid, bs_grid, epochs_grid):\n",
    "    lr, bs, epoch = grid_combination\n",
    "    network = nn.NeuralNetwork(arch, lr, seed, bs, epochs, 'ce', activations=['sigmoid', 'sigmoid'])\n",
    "    train_losses, test_losses = network.fit(x_train, y_train, x_test, y_test)\n",
    "    last_test_loss = test_losses[-1]\n",
    "    \n",
    "    # code does this but wanted to make it clear to reader losses are stored as attr\n",
    "    network.train_losses = train_losses\n",
    "    network.test_losses = test_losses\n",
    "    \n",
    "    grid_key = (lr, bs, epoch)\n",
    "    clf_test_losses_grid[grid_key] = last_test_loss\n",
    "    clf_models_grid[grid_key] = network"
   ]
  },
  {
   "cell_type": "code",
   "execution_count": 365,
   "id": "988866bf",
   "metadata": {},
   "outputs": [],
   "source": [
    "best_grid_param_clf = min(clf_test_losses_grid, key=clf_test_losses_grid.get)\n",
    "best_loss_val_clf = clf_test_losses_grid[best_grid_param_clf]\n",
    "best_network_clf = clf_models_grid[best_grid_param_clf]"
   ]
  },
  {
   "cell_type": "markdown",
   "id": "8d310a3f",
   "metadata": {},
   "source": [
    "#### Choice of loss function:\n",
    "* I chose to use **cross entropy loss** because we want this neural network to output probabilities over the two classes during prediction"
   ]
  },
  {
   "cell_type": "code",
   "execution_count": 366,
   "id": "bf1fbfe5",
   "metadata": {},
   "outputs": [
    {
     "data": {
      "image/png": "[encoded data removed]",
      "text/plain": [
       "<Figure size 432x288 with 1 Axes>"
      ]
     },
     "metadata": {
      "needs_background": "light"
     },
     "output_type": "display_data"
    }
   ],
   "source": [
    "plt.plot(best_network_clf.train_losses, label='Train losses')\n",
    "plt.plot(best_network_clf.test_losses, label='Test losses')\n",
    "_ = plt.title('Train/test losses for best performing network on classification of TF binding')\n",
    "_ = plt.grid()\n",
    "_ = plt.legend()\n",
    "_ = plt.xlabel('Epochs')\n",
    "_ = plt.ylabel('Average CE loss over epoch')"
   ]
  },
  {
   "cell_type": "code",
   "execution_count": 380,
   "id": "f4b099e1",
   "metadata": {},
   "outputs": [
    {
     "name": "stdout",
     "output_type": "stream",
     "text": [
      "Accuracy for test set: 0.993\n"
     ]
    }
   ],
   "source": [
    "preds = network.predict(np.array(x_test)).argmax(1) # one dim vector of class pred 0's and 1's\n",
    "y_test_gt = np.array(y_test).argmax(1)\n",
    "\n",
    "accuracy = np.isclose(preds, y_test_gt).sum() / len(preds)\n",
    "print(f'Accuracy for test set: {accuracy.round(3)}')"
   ]
  }
 ],
 "metadata": {
  "kernelspec": {
   "display_name": "Python [conda env:ml]",
   "language": "python",
   "name": "conda-env-ml-py"
  },
  "language_info": {
   "codemirror_mode": {
    "name": "ipython",
    "version": 3
   },
   "file_extension": ".py",
   "mimetype": "text/x-python",
   "name": "python",
   "nbconvert_exporter": "python",
   "pygments_lexer": "ipython3",
   "version": "3.9.7"
  }
 },
 "nbformat": 4,
 "nbformat_minor": 5
}
